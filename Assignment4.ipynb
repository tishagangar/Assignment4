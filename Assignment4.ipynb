{
 "cells": [
  {
   "cell_type": "markdown",
   "metadata": {
    "id": "GWCPCDvGW_cm"
   },
   "source": [
    "# Assignment 4\n",
    "\n",
    "\n",
    "Turn in the assignment via autograder: `python3 -m autograder.cli.submission.submit Assignment4.ipynb`.\n",
    "\n",
    "To write legible answers you will need to be familiar with both [Markdown](https://github.com/adam-p/markdown-here/wiki/Markdown-Cheatsheet) and [Latex](https://www.latex-tutorial.com/tutorials/amsmath/)\n",
    "\n",
    "Before you turn this problem in, make sure everything runs as expected. To do so, restart the kernel and run all cells (in the menubar, select Runtime→→Restart and run all).\n",
    "#### Show your work!\n",
    "Whenever you are asked to find the solution to a problem, be sure to also **show how you arrived** at your answer."
   ]
  },
  {
   "cell_type": "markdown",
   "metadata": {
    "id": "GGbAsOzRQpx-"
   },
   "source": [
    "## Problem 1 - Bayes' Theorem - Testing for a Genetic Defect\n",
    "---\n",
    "Testing for a genetic defect is not perfect. There are two kinds of errors in a binary test, a **false positive** where a test result incorrectly indicates a presence of a condition when it is not present, and a **false negative** where the test incorrectly fails to indicate the presence of a condition when it is present. These are in contrast with the two correct results; **true positive** and **true negative**.\n",
    "\n",
    "Given the following data, answer the following questions\n",
    "* Two percent of people have this genetic defect.\n",
    "* Ninety two percent of tests for the gene detect it (true positive)\n",
    "* Six percent of tests are false positives. "
   ]
  },
  {
   "cell_type": "markdown",
   "metadata": {
    "id": "7NqhG0Fmpnmp"
   },
   "source": [
    "### Part 1\n",
    "What is the probability of getting a positive result on the test?"
   ]
  },
  {
   "cell_type": "markdown",
   "metadata": {
    "id": "zD9l_mP8q81S"
   },
   "source": [
    "###  TODO: Show your work for Part 1 here: \n",
    "\n"
   ]
  },
  {
   "cell_type": "code",
   "execution_count": null,
   "metadata": {},
   "outputs": [],
   "source": [
    "def p1_part1():\n",
    "    \"\"\"\n",
    "    Return the probability (between 0 and 1) of getting a positive result on the test\n",
    "    \"\"\"\n",
    "    # YOUR ANSWER HERE\n",
    "    return 0"
   ]
  },
  {
   "cell_type": "markdown",
   "metadata": {
    "id": "bL03igKcq_Av"
   },
   "source": [
    "### Part 2\n",
    "What is the probability of having the gene, given a positive result?"
   ]
  },
  {
   "cell_type": "markdown",
   "metadata": {
    "id": "-cjOIhs1rjAF"
   },
   "source": [
    "### TODO: Show your work for Part 2 here:\n"
   ]
  },
  {
   "cell_type": "code",
   "execution_count": null,
   "metadata": {},
   "outputs": [],
   "source": [
    "def p1_part2():\n",
    "    \"\"\"\n",
    "    Return the probability (between 0 and 1) of having the gene, given a positive result?\n",
    "    \"\"\"\n",
    "    # YOUR ANSWER HERE\n",
    "    return 0"
   ]
  },
  {
   "cell_type": "markdown",
   "metadata": {
    "id": "nPtbV7k6rpO5"
   },
   "source": [
    "## Problem 2 - Bayesian Networks\n",
    "---\n",
    "You are given the following Bayyesian network consisting of five binary random variables S1, S2, S3, S4, S5. Each variable can represent a certain state which can be \"True\" or \"False\". Answer the following questions based on the probabilities given below.\n",
    "\n",
    "![GRAPH1.png](data:image/png;base64,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)\n",
    "\n",
    "* P(S1 = true) = 0.5\n",
    "* P(S2 = true | S1) = {0.6, S1 = false; 0.75, S1 = true}\n",
    "* P(S4 = true | S1) = {0.1, S1 = false; 0.8, S1 = true}\n",
    "* P(S3 = true | S1,S4) = {0.2, S1=false,S4=false; 0.8, S1=true,S4=false; 0.4, S1=false,S4=true; 0.9, S1=true,S4=true}\n",
    "* P(S5 = true | S3) = { 0.75, S3 = false; 0.1 S3 = true}\n"
   ]
  },
  {
   "cell_type": "markdown",
   "metadata": {
    "id": "PQj1NlgK1XTv"
   },
   "source": [
    "### Part 1 \n",
    "Given the above network and probabilities, calculate the probability of P(S1=true, S2=true, S3=true, S4=true, S5=true).\n",
    "\n"
   ]
  },
  {
   "cell_type": "markdown",
   "metadata": {
    "id": "_XanR3BZ4-60"
   },
   "source": [
    "### TODO: Show your work here \n"
   ]
  },
  {
   "cell_type": "code",
   "execution_count": null,
   "metadata": {},
   "outputs": [],
   "source": [
    "def p2_part1():\n",
    "    \"\"\" \n",
    "    Return as a probability between 0 and 1\n",
    "    \"\"\"\n",
    "    # YOUR ANSWER HERE\n",
    "    return 0"
   ]
  },
  {
   "cell_type": "markdown",
   "metadata": {
    "id": "lRK_ln-O5H_x"
   },
   "source": [
    "### Part 2\n",
    "Given the above network and probabilities, calculate the probability of P(S5 = true | S1 = true).\n"
   ]
  },
  {
   "cell_type": "markdown",
   "metadata": {
    "id": "nzBTLH4P5cpS"
   },
   "source": [
    "### TODO: Show your work for part 2 here\n"
   ]
  },
  {
   "cell_type": "code",
   "execution_count": null,
   "metadata": {},
   "outputs": [],
   "source": [
    "def p2_part2():\n",
    "    # YOUR ANSWER HERE\n",
    "    return 0"
   ]
  },
  {
   "cell_type": "markdown",
   "metadata": {
    "id": "1jD9aiyR5eeV"
   },
   "source": [
    "### Part 3\n",
    "Given the above network and probabilities, calculate the probability of P(S1 = true | S5 = true)."
   ]
  },
  {
   "cell_type": "markdown",
   "metadata": {
    "id": "ZrMiJ4vO5ovX"
   },
   "source": [
    "### TODO: show your work for part 3 here"
   ]
  },
  {
   "cell_type": "code",
   "execution_count": null,
   "metadata": {
    "id": "gE_IfPVtojf4"
   },
   "outputs": [],
   "source": [
    "def p2_part3():\n",
    "    # YOUR ANSWER HERE\n",
    "    return 0"
   ]
  },
  {
   "cell_type": "markdown",
   "metadata": {
    "id": "hx3UAnIl5rJc"
   },
   "source": [
    "### Part 4\n",
    "Using the chain rule of probability factor P(S1, S2, S3, S4, S5) give the minimum number of parameters to specify the distribution according to the independencies mentioned:\n",
    "\n",
    "(i) S1, S2, S3, S4, S5 are mutually independent.\n",
    "\n",
    "(ii) no independencies. \n",
    "\n",
    "Note: assume that all variable are binary random variables. "
   ]
  },
  {
   "cell_type": "markdown",
   "metadata": {
    "id": "OERdpeJK6afl"
   },
   "source": [
    "### TODO: show your work for part 4 here"
   ]
  },
  {
   "cell_type": "code",
   "execution_count": null,
   "metadata": {},
   "outputs": [],
   "source": [
    "def p2_part4():\n",
    "    # YOUR ANSWER HERE\n",
    "    mutual_independent = 0\n",
    "    no_independencies = 0\n",
    "    return mutual_independent, no_independencies"
   ]
  },
  {
   "cell_type": "markdown",
   "metadata": {},
   "source": [
    "## Problem 3 - Introduction to the Rules System\n",
    "Consider the following rules about hypothetical cats\n",
    "```\n",
    "rule1 = IF( AND( '(?x) is a hypothetical cat',\n",
    "                 '(?x) is alive',\n",
    "                 NOT('(?x) is alive')),\n",
    "            THEN( '(?x) is a paradox' ) )\n",
    "\n",
    "rule2 = IF( AND( '(?x) is a hypothetical cat',\n",
    "                 '(?x) is alive',\n",
    "                 '(?x) is dead'),\n",
    "            THEN( '(?x) is Schrodinger's cat' ) )\n",
    "\n",
    "rule3 = IF( AND( '(?x) is a hypothetical cat',\n",
    "                 NOT('(?x) is alive'),\n",
    "                 NOT('(?x) is dead')),\n",
    "            THEN( '(?x) is amortal' ) )\n",
    "```"
   ]
  },
  {
   "cell_type": "code",
   "execution_count": null,
   "metadata": {},
   "outputs": [],
   "source": [
    "from production import IF, AND, OR, NOT, THEN, DELETE, forward_chain\n",
    "from data import *"
   ]
  },
  {
   "cell_type": "markdown",
   "metadata": {},
   "source": [
    "### Part 1\n",
    "Consider the following set of assertions about Kitty.\n",
    "```\n",
    "assertions = ( 'Kitty is a hypothetical cat',\n",
    "               'Kitty is alive',\n",
    "               'Kitty is dead' )\n",
    "```\n",
    "Which rules would match in the first round of forward chaining? Answer with a string of numbers in `p3_part1`. (For example, if the assertions match rule1 and rule2, answer '12'.) If no rules match, answer '0'."
   ]
  },
  {
   "cell_type": "code",
   "execution_count": null,
   "metadata": {},
   "outputs": [],
   "source": [
    "def p3_part1():\n",
    "    \"\"\"\n",
    "    Which rules would match in the first round of forward chaining?\n",
    "    \"\"\"\n",
    "    # YOUR ANSWER HERE\n",
    "    return None"
   ]
  },
  {
   "cell_type": "markdown",
   "metadata": {},
   "source": [
    "## Part 2\n",
    "Consider the following set of assertions about Nyan.\n",
    "```\n",
    "assertions = ( 'Nyan is a hypothetical cat',\n",
    "               'Nyan is alive',\n",
    "               'Nyan is not alive' )\n",
    "```\n",
    "Which rules would match in the first round of forward chaining? Answer with a string of numbers in `p3_part2`. If no rules match, answer '0'.\n",
    "\n"
   ]
  },
  {
   "cell_type": "code",
   "execution_count": null,
   "metadata": {},
   "outputs": [],
   "source": [
    "def p3_part2():\n",
    "    \"\"\"\n",
    "    Which rules would match in the first round of forward chaining ?\n",
    "    \"\"\"\n",
    "    # YOUR ANSWER HERE\n",
    "    return None"
   ]
  },
  {
   "cell_type": "markdown",
   "metadata": {},
   "source": [
    "### Part 3\n",
    "Consider the following set of assertions about Garfield.\n",
    "```\n",
    "assertions = ( 'Garfield is a hypothetical cat',\n",
    "               'Garfield likes lasagna' )\n",
    "```\n",
    "Which rules would match in the first round of forward chaining? Answer with a string of numbers in `p3_part3`. If no rules match, answer '0'.\n",
    "\n"
   ]
  },
  {
   "cell_type": "code",
   "execution_count": null,
   "metadata": {},
   "outputs": [],
   "source": [
    "def p3_part3():\n",
    "    \"\"\"\n",
    "    Which rules would match in the first round of forward chaining ?\n",
    "    \"\"\"\n",
    "    # YOUR ANSWER HERE\n",
    "    return None"
   ]
  },
  {
   "cell_type": "markdown",
   "metadata": {},
   "source": [
    "# Problem 4 - First Rule\n",
    "We can use a production system to rank types of poker hands against each other. If we tell it basic things such as 'three-of-a-kind beats two-pair' and 'two-pair beats pair', it would make sense for it to be able to deduce by transitivity that 'three-of-a-kind beats pair'.\n",
    "\n",
    "You're given this data about poker hands:\n",
    "```\n",
    "poker_data = [ 'two-pair beats pair',\n",
    "               'three-of-a-kind beats two-pair',\n",
    "               'straight beats three-of-a-kind',\n",
    "               'flush beats straight',\n",
    "               'full-house beats flush',\n",
    "               'straight-flush beats full-house' ]\n",
    "```\n",
    "Write a one-rule system that finds all other combinations of which poker hands beat which, transitively, given some of the rankings already. For example, it should be able to deduce that a three-of-a-kind beats a pair, because a three-of-a-kind beats two-pair and a two-pair beats a pair. The rankings (data) are all provided in the form '(?x) beats (?y)'."
   ]
  },
  {
   "cell_type": "code",
   "execution_count": null,
   "metadata": {},
   "outputs": [],
   "source": [
    "\"\"\"\n",
    "Write a one-rule system that finds all other combinations of which poker hands beat which, \n",
    "transitively, given some of the rankings already. \n",
    "For example, it should be able to deduce that a three-of-a-kind beats a pair, because a three-of-a-kind beats \n",
    "two-pair and a two-pair beats a pair. The rankings (data) are all provided in the form '(?x) beats (?y)'.\n",
    "\"\"\"\n",
    "def transitive_rule():\n",
    "    # YOUR ANSWER HERE\n",
    "    rule = IF( AND(), THEN() )\n",
    "    return rule"
   ]
  },
  {
   "cell_type": "code",
   "execution_count": null,
   "metadata": {},
   "outputs": [],
   "source": [
    "# You can test your rule by uncommenting these print statements:\n",
    "# print(forward_chain([transitive_rule()], abc_data))\n",
    "# print(forward_chain([transitive_rule()], poker_data))\n",
    "# print(forward_chain([transitive_rule()], minecraft_data))"
   ]
  },
  {
   "cell_type": "markdown",
   "metadata": {},
   "source": [
    "# Part 5: Family Relations -> Rule Set\n",
    "You will be given data that includes two kinds of statements:\n",
    "\n",
    "- 'person (?x)': x is a person\n",
    "- 'parent (?x) (?y)': x is a parent of y\n",
    "Every person in the data set will be explicitly defined as a person.\n",
    "\n",
    "Your task is to deduce, wherever you can, the following relations:\n",
    "\n",
    "- 'sibling (?x) (?y)': x is the sibling of y (x and y are different people, but share at least one parent)\n",
    "- 'child (?x) (?y)': x is the child of y\n",
    "- 'cousin (?x) (?y)': x and y are cousins (a parent of x and a parent of y are siblings, but x and y are not siblings)\n",
    "- 'grandparent (?x) (?y)': x is the grandparent of y\n",
    "- 'grandchild (?x) (?y)': x is the grandchild of y\n",
    "\n",
    "Note that for this problem, you are not limited to only defining rules that generate one of the five familial relations enumerated above. You are welcome to include rules that inform other relations. You're also welcome to implement additional familial relations such as great-grandparent or nibling, if you feel so inclined.\n",
    "\n",
    "Keep in mind that some relations are symmetric, so you need to include them both ways. For example, if a is a cousin of b, then b is a cousin of a.\n",
    "\n",
    "First, define all your rules individually -- that is, give them names by assigning them to variables. This will enable you to refer to the rules by name and easily rearrange them if you need to. Then, put them together into a list in order, and call it family_rules, so that the rules can be plugged into the forward-chaining system.\n",
    "\n",
    "We've given you two larger sets of test data -- one for the Simpsons family, and one for the Black family from Harry Potter -- as well as a couple smaller data sets to help with debugging. To debug what happened in your rules, you can set verbose=True.\n",
    "\n",
    "You will write your solution in lab1.py in the section labeled \"Part 3\". Note that lab1.py will automatically define a variable called black_family_cousins which will include all the 'cousin (?x) (?y)' relations you find in the Black family, per your rule set. There should be 14 of them.\n",
    "\n",
    "IMPORTANT: Make sure you implement all five relations defined above. In this lab, the online tester will be stricter, and may test some relations not tested offline."
   ]
  },
  {
   "cell_type": "code",
   "execution_count": null,
   "metadata": {},
   "outputs": [],
   "source": [
    "def family_rules():\n",
    "    # YOURANSWER HERE: Add your rules to this list:\n",
    "    rules = [ IF( 'person (?x)',\n",
    "                     THEN('self (?x) (?x)') ),\n",
    "\n",
    "                 IF( AND('parent (?p) (?x)',\n",
    "                         'parent (?p) (?y)',\n",
    "                         NOT('self (?x) (?y)')),\n",
    "                     THEN('sibling (?x) (?y)') )\n",
    "            ]\n",
    "    return rules\n",
    "\n",
    "\n",
    "# Uncomment this to test your data on the Simpsons family:\n",
    "# print(forward_chain(family_rules(), simpsons_data, verbose=False))\n",
    "\n",
    "# These smaller datasets might be helpful for debugging:\n",
    "#print forward_chain(family_rules, sibling_test_data, verbose=True)\n",
    "#print forward_chain(family_rules, grandparent_test_data, verbose=True)\n",
    "\n",
    "# The following should generate 14 cousin relationships, representing 7 pairs\n",
    "# of people who are cousins:\n",
    "# black_family_cousins = [\n",
    "#     relation for relation in\n",
    "#     forward_chain(family_rules(), black_data, verbose=False)\n",
    "#     if \"cousin\" in relation ]\n",
    "\n",
    "# To see if you found them all, uncomment this line:\n",
    "# print(black_family_cousins)"
   ]
  },
  {
   "cell_type": "markdown",
   "metadata": {},
   "source": [
    "# Part 6 - Backward Chaining\n",
    "\n",
    "In this problem, we will do backward chaining by starting from a conclusion, and generating a goal tree of all of the statements we may need to test. The leaves of the goal tree will be sentences (strings) such as 'opus swims', indicating atomic failure or success based on whether or not 'opus swims' is in our assertions list.\n",
    "\n",
    "We'll run this backward chainer on the zookeeper system of rules, a simple set of production rules for classifying animals, which you will find in data.py. As an example, here is the goal tree generated for the hypothesis 'opus is a penguin':\n",
    "```\n",
    "OR(\n",
    "  'opus is a penguin',\n",
    "  AND(\n",
    "    OR('opus is a bird', 'opus has feathers', AND('opus flies', 'opus lays eggs'))\n",
    "    'opus does not fly',\n",
    "    'opus swims',\n",
    "    'opus has black and white color' ))\n",
    "```\n",
    "You will write a procedure, `backchain_to_goal_tree(rules, hypothesis)`, which outputs the goal tree containing the statements you would need to test to prove the hypothesis. Note that this function is supposed to be a general backchainer, so you should not hard-code anything that is specific to a particular rule set. The backchainer will be tested on rule sets other than zookeeper_rules.\n",
    "\n",
    "The rules you work with will be limited in scope, because general-purpose backward chainers are difficult to write. In particular, for this problem, make the following assumptions:\n",
    "\n",
    "All variables that appear in a rule's antecedent also appear in its consequent (so there are no \"unknown\" variables in the antecedent). In other words, you will not need to do backtracking.\n",
    "All assertions are positive: no rules will have DELETE clauses or NOT expressions.\n",
    "Rule antecedents never have nested RuleExpression nodes. For example, an expression such as (OR (AND x y) (AND z w)) will never appear within an antecedent, because that contains an AND expression nested under an OR expression.\n",
    "Rule consequents always have just a single statement.\n",
    "Note that an antecedent can be a single hypothesis (a string) or a RuleExpression.\n",
    "\n",
    "Taking advantage of your visual problem-solving apparatus\n",
    "As a species, humans are very visual learners. If you're having trouble conceptualizing what should be going on in the backward chaining algorithm, we strongly recommend drawing a diagram and working your way down the goal tree by hand.\n",
    "\n"
   ]
  },
  {
   "cell_type": "code",
   "execution_count": null,
   "metadata": {},
   "outputs": [],
   "source": [
    "# Import additional methods for backchaining\n",
    "from production import AND, OR, NOT, PASS, FAIL, IF, THEN, match, populate, simplify, variables\n",
    "from data import zookeeper_rules\n",
    "\n",
    "def backchain_to_goal_tree(rules, hypothesis):\n",
    "    \"\"\"\n",
    "    Takes a hypothesis (string) and a list of rules (list\n",
    "    of IF objects), returning an AND/OR tree representing the\n",
    "    backchain of possible statements we may need to test\n",
    "    to determine if this hypothesis is reachable or not.\n",
    "\n",
    "    This method should return an AND/OR tree, that is, an\n",
    "    AND or OR object, whose constituents are the subgoals that\n",
    "    need to be tested. The leaves of this tree should be strings\n",
    "    (possibly with unbound variables), *not* AND or OR objects.\n",
    "    Make sure to use simplify(...) to flatten trees where appropriate.\n",
    "    \"\"\"\n",
    "    # YOUR CODE HERE\n",
    "    return NotImplementedError\n",
    "\n",
    "\n",
    "# Uncomment this to test out your backward chainer:\n",
    "# print(backchain_to_goal_tree(zookeeper_rules, 'opus is a penguin'))"
   ]
  }
 ],
 "metadata": {
  "colab": {
   "provenance": []
  },
  "kernelspec": {
   "display_name": "Python 3 (ipykernel)",
   "language": "python",
   "name": "python3"
  },
  "language_info": {
   "codemirror_mode": {
    "name": "ipython",
    "version": 3
   },
   "file_extension": ".py",
   "mimetype": "text/x-python",
   "name": "python",
   "nbconvert_exporter": "python",
   "pygments_lexer": "ipython3",
   "version": "3.10.9"
  }
 },
 "nbformat": 4,
 "nbformat_minor": 1
}
